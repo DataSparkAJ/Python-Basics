{
  "nbformat": 4,
  "nbformat_minor": 0,
  "metadata": {
    "colab": {
      "provenance": []
    },
    "kernelspec": {
      "name": "python3",
      "display_name": "Python 3"
    },
    "language_info": {
      "name": "python"
    }
  },
  "cells": [
    {
      "cell_type": "markdown",
      "source": [
        "**You must be tired checking all these assignments — don’t forget to drink water! And Say hi to your pet 🐾 😊**"
      ],
      "metadata": {
        "id": "TtNdbMU7zNVA"
      }
    },
    {
      "cell_type": "markdown",
      "source": [
        "**Assignment 1: Basic of Python**\n",
        "\n",
        "Q1. What is Python, and why is it popular?\n",
        "\n",
        "Ans. Python is like the English of programming — simple, readable, and widely spoken.\n",
        "\n",
        ">It's a high-level, interpreted, and object-oriented language, first released in 1991 by Guido van Rossum.\n",
        "\n",
        " >Why it’s super popular:\n",
        "\n",
        ">1. Beginner-Friendly: Clean syntax like speaking English\n",
        "\n",
        ">2. Interpreted Line-by-Line: Easy to debug & test\n",
        "\n",
        ">3. Supports OOP: Classes, objects, inheritance — all there\n",
        "\n",
        ">4. Free & Open Source: No license required\n",
        "\n",
        ">5. Super Versatile: Use it in AI, Web Dev, Games, Data Science\n",
        "\n",
        ">6. Cross-Platform: Runs on Windows, Linux, macOS\n",
        "\n",
        ">7. Tons of Libraries: NumPy, Pandas, Django, etc.\n",
        "\n",
        ">8. Huge Community: Millions ready to help and build with you"
      ],
      "metadata": {
        "id": "lodKErCELUIF"
      }
    },
    {
      "cell_type": "markdown",
      "source": [],
      "metadata": {
        "id": "0fIdgGykMUZU"
      }
    },
    {
      "cell_type": "markdown",
      "source": [
        "Q2. What is an interpreter in Python?\n",
        "\n",
        "Ans. An interpreter is like a translator who reads and speaks one line at a time.\n",
        "\n",
        " >In Python:\n",
        "\n",
        ">>The interpreter reads your code line-by-line and runs it immediately.\n",
        "\n",
        ">>No need to compile the full code first (like in Java or C++).\n",
        "\n",
        ">>This helps you test and debug quickly.\n",
        "\n",
        " >Flow:\n",
        "\n",
        ">>Your Code -> Python Interpreter -> Line Executed -> Next Line\n",
        "\n",
        " >Why it’s helpful?\n",
        "\n",
        ">* You can see errors fast\n",
        "\n",
        ">* Easier to learn\n",
        "\n",
        ">* Great for scripting, testing, and teaching\n",
        "\n",
        "\n",
        "\n"
      ],
      "metadata": {
        "id": "Tu44f7GfMebd"
      }
    },
    {
      "cell_type": "markdown",
      "source": [
        "Q3. What are pre-defined keywords in Python?\n",
        "\n",
        "Ans. Keywords = Python’s built-in grammar.\n",
        "\n",
        " >They are special words that Python already understands. You can’t use them as variable or function names.\n",
        "\n",
        " >>if = 5  (Wrong!)\n",
        "\n",
        " >>age = 5 ✔️\n",
        "\n",
        " >Examples:\n",
        "\n",
        " >>if, else, while, for, def, return, class, try, except, True, False, None\n",
        "\n",
        ">These words control:\n",
        "\n",
        ">* Logic (if, else, elif)\n",
        "\n",
        ">* Loops (for, while)\n",
        "\n",
        ">* Functions (def, return)\n",
        "\n",
        ">* Classes (class)\n",
        "\n"
      ],
      "metadata": {
        "id": "k4A3xHYDONrY"
      }
    },
    {
      "cell_type": "markdown",
      "source": [
        "Q4. Can keywords be used as variable names?\n",
        "\n",
        "Ans. Nope!\n",
        "You can’t use Python keywords as variable names.\n",
        "\n",
        ">>if = 10\n",
        "(👎 This is wrong)\n",
        "\n",
        ">Why?\n",
        "\n",
        ">>Because keywords already have a specific role in Python’s grammar. Using them as variables would confuse the interpreter.\n",
        "\n",
        ">>Always choose names that are not reserved.\n",
        "\n",
        "\n"
      ],
      "metadata": {
        "id": "oXxI-A4UPcCJ"
      }
    },
    {
      "cell_type": "markdown",
      "source": [
        "Q5. What is mutability in Python?\n",
        "\n",
        "Ans. Mutability = Can it change after creation?\n",
        "\n",
        ">i.e. mutability in Python refers to whether an object's value can be changed after it is created or not.\n",
        "\n",
        ">>Mutable: You can change it (like a whiteboard)\n",
        "\n",
        ">>Immutable: Once written, it cannot be changed (like a printed page)\n",
        "\n",
        ">Mutable Examples: list, set, dict\n",
        "\n",
        ">Immutable Examples: int, float, str, tuple"
      ],
      "metadata": {
        "id": "PEPCzz-cQHnY"
      }
    },
    {
      "cell_type": "markdown",
      "source": [
        "Q6. Why are lists mutable, but tuples are immutable?\n",
        "\n",
        "Ans. Lists are mutable because they are designed to store data that can change. You can add, remove, or update elements after the list is created.\n",
        "\n",
        ">Tuples, on the other hand, are immutable because they are meant to store fixed collections of items. Once a tuple is created, its content cannot be changed.\n",
        "\n",
        "\n",
        "\n"
      ],
      "metadata": {
        "id": "72S6E-pCSJLK"
      }
    },
    {
      "cell_type": "code",
      "execution_count": null,
      "metadata": {
        "id": "JP971XgnLRBW"
      },
      "outputs": [],
      "source": []
    },
    {
      "cell_type": "markdown",
      "source": [
        "Q7. What is the difference between == and is operators in Python?\n",
        "\n",
        "Ans. In Python, both == and is are used to compare things, but they don't ask the same question.\n",
        "\n",
        ">== asks:\n",
        "“Do these two things have the same value?”\n",
        "\n",
        ">is asks:\n",
        "“Are these two things actually the same object in memory?”\n",
        "\n",
        ">They may sound similar but behave differently, especially with complex data types.\n",
        "\n",
        ">>Think of it like this:\n",
        "\n",
        ">You and your twin look exactly the same (==),\n",
        "\n",
        ">but you're two different people (is returns False).\n"
      ],
      "metadata": {
        "id": "GSOrDZOkU5Ez"
      }
    },
    {
      "cell_type": "code",
      "source": [
        "a = [10, 20]\n",
        "b = [10, 20]\n",
        "c = a\n",
        "\n",
        "print(a == b)   # True — values are the same\n",
        "print(a is b)   # False — stored at different memory locations\n",
        "\n",
        "print(a == c)   # True — values match\n",
        "print(a is c)   # True — both point to the same object\n"
      ],
      "metadata": {
        "colab": {
          "base_uri": "https://localhost:8080/"
        },
        "id": "ROv6EKZOVrfT",
        "outputId": "6fb0cd10-beca-4e63-d21c-78dd2950251b"
      },
      "execution_count": null,
      "outputs": [
        {
          "output_type": "stream",
          "name": "stdout",
          "text": [
            "True\n",
            "False\n",
            "True\n",
            "True\n"
          ]
        }
      ]
    },
    {
      "cell_type": "markdown",
      "source": [
        "Q8. What are logical operators in Python?\n",
        "\n",
        "Ans. Logical operators are used to combine multiple conditions and make decisions based on whether they’re true or false.\n",
        "\n",
        ">and:\n",
        "True if both are true\n",
        "\n",
        ">or:\n",
        "True if at least one is true\n",
        "\n",
        ">not:\n",
        "Reverses the result\n",
        "\n",
        ">>In simple words:\n",
        "\n",
        ">Use and when you want both conditions to be true.\n",
        "\n",
        ">Use or when you’re okay with either one being true.\n",
        "\n",
        ">Use not when you want to flip the result - like turning True into False.\n"
      ],
      "metadata": {
        "id": "kuq-wMojV5fA"
      }
    },
    {
      "cell_type": "code",
      "source": [
        "a = 5\n",
        "b = 10\n",
        "\n",
        "# using 'and'\n",
        "print(a > 2 and b < 15)     # True and True → True\n",
        "\n",
        "# using 'or'\n",
        "print(a < 2 or b > 5)       # False or True → True\n",
        "\n",
        "# using 'not'\n",
        "print(not(a == b))          # not(False) → True"
      ],
      "metadata": {
        "colab": {
          "base_uri": "https://localhost:8080/"
        },
        "id": "jV5fZU1yX9Vv",
        "outputId": "4a0fe37e-cb31-4016-d46e-153b062a869c"
      },
      "execution_count": null,
      "outputs": [
        {
          "output_type": "stream",
          "name": "stdout",
          "text": [
            "True\n",
            "True\n",
            "True\n"
          ]
        }
      ]
    },
    {
      "cell_type": "markdown",
      "source": [],
      "metadata": {
        "id": "Yj_MOdQTYKo-"
      }
    },
    {
      "cell_type": "markdown",
      "source": [
        "Q9. What is type casting in Python?\n",
        "\n",
        "Ans. Type casting in Python means converting one data type into another manually using built-in functions.\n",
        "\n",
        ">It’s useful when you want to perform operations between different types, like combining a number and a string, or ensuring the right type in calculations.\n",
        "\n",
        "> Type of typecasting\n",
        ">>Implicit Type Casting (Automatic):\n",
        "\n",
        ">>>Python automatically converts one data type to another when it's safe to do so.\n",
        "\n",
        ">>>Happens without user intervention\n",
        "\n",
        ">>>Usually from lower to higher data types (e.g., int → float)\n",
        "\n",
        ">> Explicit Type Casting\n",
        "\n",
        ">>>You manually convert one type to another using Python’s built-in functions.\n",
        "\n",
        ">>>Common Functions:\n",
        "int(), float(), str(), bool(), list(), tuple(), set()\n"
      ],
      "metadata": {
        "id": "az5G0CCnYhYs"
      }
    },
    {
      "cell_type": "markdown",
      "source": [
        "Q10. What is the difference between implicit and explicit type casting?\n",
        "\n",
        "Ans. In Python, type casting means converting a value from one data type to another. It can be done in two ways:\n",
        "\n",
        "1. Explicit Type Casting\n",
        "You manually convert the data type using functions like int(), float(), or str().\n",
        "\n",
        "2. Implicit Type Casting\n",
        "Python automatically converts the data type during operations when needed."
      ],
      "metadata": {
        "id": "bXUVo13XcWcg"
      }
    },
    {
      "cell_type": "code",
      "source": [
        "# Explicit\n",
        "x = \"10\"\n",
        "y = int(x)      # string → integer\n",
        "print(y + 5)    # 15\n",
        "# Implicit\n",
        "a = 5       # int\n",
        "b = 2.0     # float\n",
        "c = a + b   # int + float → result becomes float\n",
        "print(c)    # 7.0"
      ],
      "metadata": {
        "colab": {
          "base_uri": "https://localhost:8080/"
        },
        "id": "YKzOzY54dOmu",
        "outputId": "438abf18-be5d-4f36-adc7-a1533ebd8644"
      },
      "execution_count": null,
      "outputs": [
        {
          "output_type": "stream",
          "name": "stdout",
          "text": [
            "15\n",
            "7.0\n"
          ]
        }
      ]
    },
    {
      "cell_type": "markdown",
      "source": [
        "Conclusion:\n",
        "* Explicit casting is done by the programmer.\n",
        "\n",
        "* Implicit casting is done by Python automatically.\n",
        "\n"
      ],
      "metadata": {
        "id": "F1fcpADzdP14"
      }
    },
    {
      "cell_type": "markdown",
      "source": [
        "Q11. What is the purpose of conditional statements in Python?\n",
        "Ans. Conditional statements in Python are used to make decisions in a program. They help the program decide what to do next based on whether a condition is true or false.\n",
        "\n",
        "In simple words, they allow the program to follow different paths depending on the situation — just like we do in real life.\n",
        "\n",
        ">Why are they useful?\n",
        "\n",
        ">>They add logic and control to your code.\n",
        "\n",
        ">>They allow your program to respond to inputs, data, or situations.\n",
        "\n",
        ">>Without them, every program would run the same way every time with no intelligence.\n",
        "\n",
        ">>Imagine you’re building a weather app. You want it to say:\n",
        "\n",
        ">>“Take an umbrella” if it’s raining,\n",
        "\n",
        ">>“Wear sunglasses” if it’s sunny.\n",
        "\n",
        ">>This kind of decision-making is exactly what conditional statements are for."
      ],
      "metadata": {
        "id": "pqBC7uIsdkIS"
      }
    },
    {
      "cell_type": "markdown",
      "source": [
        "Q12. How does the elif statement work?\n",
        "Ans. The elif statement in Python stands for \"else if\". It is used when you have multiple conditions to check, one after another.\n",
        "\n",
        "How it works:\n",
        "* First, Python checks the if condition.\n",
        "\n",
        "* If it's true, the code under if runs, and the rest is skipped.\n",
        "\n",
        "* If if is false, Python checks the elif condition.\n",
        "\n",
        "* If that’s true, it runs the elif block.\n",
        "\n",
        "* You can have as many elif blocks as needed.\n",
        "\n",
        "* If none of them are true, you can add a final else block (optional).\n",
        "\n"
      ],
      "metadata": {
        "id": "nn8NDCVQef9Z"
      }
    },
    {
      "cell_type": "code",
      "source": [
        "marks = 82\n",
        "\n",
        "if marks >= 90:\n",
        "    print(\"Grade: A\")\n",
        "elif marks >= 75:\n",
        "    print(\"Grade: B\")\n",
        "elif marks >= 50:\n",
        "    print(\"Grade: C\")\n",
        "else:\n",
        "    print(\"Fail\")\n"
      ],
      "metadata": {
        "colab": {
          "base_uri": "https://localhost:8080/"
        },
        "id": "q-xYPjjLfi5a",
        "outputId": "4efe1728-c413-4b6c-b7b8-fd817d0a9474"
      },
      "execution_count": null,
      "outputs": [
        {
          "output_type": "stream",
          "name": "stdout",
          "text": [
            "Grade: B\n"
          ]
        }
      ]
    },
    {
      "cell_type": "markdown",
      "source": [
        "Q13. What is the difference between for and while loops?\n",
        "\n",
        "Ans. Both for and while loops are used in Python to repeat a block of code, but they are used in different situations.\n",
        "\n",
        "1. for loop\n",
        "\n",
        ">>Used when you know in advance how many times you want to repeat something. It works well with sequences like lists, strings, or a range of numbers.\n",
        "\n",
        "2. while loop\n",
        "\n",
        ">>Used when you don’t know in advance how many times to loop. It keeps running as long as a condition remains true."
      ],
      "metadata": {
        "id": "PEuKV4gPflwM"
      }
    },
    {
      "cell_type": "markdown",
      "source": [],
      "metadata": {
        "id": "RZZEO2hsaJuf"
      }
    },
    {
      "cell_type": "code",
      "source": [
        "# for loop example\n",
        "for i in range(5):\n",
        "    print(\"Hi!\")\n",
        "\n",
        "# while loop example\n",
        "count = 0\n",
        "while count < 5:\n",
        "    print(\"Hello\")\n",
        "    count += 1\n"
      ],
      "metadata": {
        "colab": {
          "base_uri": "https://localhost:8080/"
        },
        "id": "e7qVD8xogB-r",
        "outputId": "f1ac7fda-1218-40e2-b2b5-7dbd2a8f2d42"
      },
      "execution_count": null,
      "outputs": [
        {
          "output_type": "stream",
          "name": "stdout",
          "text": [
            "Hi!\n",
            "Hi!\n",
            "Hi!\n",
            "Hi!\n",
            "Hi!\n",
            "Hello\n",
            "Hello\n",
            "Hello\n",
            "Hello\n",
            "Hello\n"
          ]
        }
      ]
    },
    {
      "cell_type": "markdown",
      "source": [],
      "metadata": {
        "id": "uTLzMlStgAQA"
      }
    },
    {
      "cell_type": "markdown",
      "source": [
        "14.Describe a scenario where a while loop is more suitable than a for loop.\n",
        "\n",
        "Ans. A while loop is more suitable when you don’t know in advance how many times the loop should run — you just want to keep going until a certain condition is met.\n",
        "\n",
        "Example Scenario:\n",
        "\n",
        ">Imagine you're building a login system that asks the user for a correct password. You don’t know how many times the user might enter the wrong password - it could be once or five times.\n",
        "\n",
        ">So, instead of using a for loop (which runs a fixed number of times), you use a while loop that continues until the correct password is entered."
      ],
      "metadata": {
        "id": "QBg8gborgYV5"
      }
    },
    {
      "cell_type": "code",
      "source": [
        "password = \"\"\n",
        "\n",
        "while password != \"taskmaster123\":\n",
        "    password = input(\"Enter password: \")\n",
        "\n",
        "print(\"Access granted.\")\n"
      ],
      "metadata": {
        "colab": {
          "base_uri": "https://localhost:8080/"
        },
        "id": "8CddEASmg2J8",
        "outputId": "c074e978-095b-49c7-b3f1-0ca910ec501d"
      },
      "execution_count": null,
      "outputs": [
        {
          "output_type": "stream",
          "name": "stdout",
          "text": [
            "Enter password: taskmaster123\n",
            "Access granted.\n"
          ]
        }
      ]
    },
    {
      "cell_type": "markdown",
      "source": [
        "**Get ready to dive into the Spiderverse! 🕷️🕸️**\n",
        "\n",
        "**Practical Questions:**"
      ],
      "metadata": {
        "id": "6RImD-g2_Ykd"
      }
    },
    {
      "cell_type": "code",
      "source": [
        "#1.  Write a Python program to print \"Hello, World!\"\n",
        "print(\"Hello, World!\")"
      ],
      "metadata": {
        "colab": {
          "base_uri": "https://localhost:8080/"
        },
        "id": "jRLCY6YA_ozO",
        "outputId": "e0c5cc0a-030c-43f8-930b-a5e500b9e602"
      },
      "execution_count": null,
      "outputs": [
        {
          "output_type": "stream",
          "name": "stdout",
          "text": [
            "Hello, World!\n"
          ]
        }
      ]
    },
    {
      "cell_type": "markdown",
      "source": [],
      "metadata": {
        "id": "d87gDfZb_clI"
      }
    },
    {
      "cell_type": "code",
      "source": [
        "#2 Write a Python program that displays your name and age\n",
        "name = \"Spiderman\"\n",
        "age = 22\n",
        "print(\"Welcome to another day in Python multiverse!\")\n",
        "print(f\"My name is {name}, your friendly neighbourhood coder.\")\n",
        "print(f\"I am {age} years old, which is about {age * 365} days, but who's counting?\")"
      ],
      "metadata": {
        "colab": {
          "base_uri": "https://localhost:8080/"
        },
        "id": "PDdKnoBB_vMj",
        "outputId": "906ba1a8-465e-4b35-a066-7b399cbae821"
      },
      "execution_count": 1,
      "outputs": [
        {
          "output_type": "stream",
          "name": "stdout",
          "text": [
            "Welcome to another day in Python multiverse!\n",
            "My name is Spiderman, your friendly neighbourhood coder.\n",
            "I am 22 years old, which is about 8030 days, but who's counting?\n"
          ]
        }
      ]
    },
    {
      "cell_type": "code",
      "source": [
        "#3.  Write code to print all the pre-defined keywords in Python using the keyword library\n",
        "import keyword\n",
        "print(\"These are all the pre-defined keywords in Python (a.k.a. The Avengers of coding):\")\n",
        "print(keyword.kwlist)\n"
      ],
      "metadata": {
        "colab": {
          "base_uri": "https://localhost:8080/"
        },
        "id": "DdhF1B7eCBUF",
        "outputId": "405d027b-11b7-46f5-baf5-4d0a9afa74e7"
      },
      "execution_count": null,
      "outputs": [
        {
          "output_type": "stream",
          "name": "stdout",
          "text": [
            "These are all the pre-defined keywords in Python (a.k.a. The Avengers of coding):\n",
            "['False', 'None', 'True', 'and', 'as', 'assert', 'async', 'await', 'break', 'class', 'continue', 'def', 'del', 'elif', 'else', 'except', 'finally', 'for', 'from', 'global', 'if', 'import', 'in', 'is', 'lambda', 'nonlocal', 'not', 'or', 'pass', 'raise', 'return', 'try', 'while', 'with', 'yield']\n"
          ]
        }
      ]
    },
    {
      "cell_type": "code",
      "source": [
        "#4. Write a program that checks if a given word is a Python keyword.\n",
        "import keyword\n",
        "word = input(\"Enter the word and i will check if the word is a Python keyword or not: \")\n",
        "list = keyword.kwlist\n",
        "if word in list:\n",
        "  print(f\"Hmm... {word} is actually a Python keyword\")\n",
        "else:\n",
        "  print(f\"🕷️ Alert! {word} is not a Python keyword\")"
      ],
      "metadata": {
        "colab": {
          "base_uri": "https://localhost:8080/"
        },
        "id": "X7m28MrQEEN2",
        "outputId": "a5d61974-ea0b-4c4b-ea03-4bdbf0bf1939"
      },
      "execution_count": null,
      "outputs": [
        {
          "output_type": "stream",
          "name": "stdout",
          "text": [
            "Enter the word and i will check if the word is a Python keyword or not: Dr. Octopus\n",
            "🕷️ Alert! Dr. Octopus is not a Python keyword\n"
          ]
        }
      ]
    },
    {
      "cell_type": "code",
      "source": [
        "#5. Create a list and tuple in Python, and demonstrate how attempting to change an element works differently for each.\n",
        "# Creating a list (Peter Parker's backpack - he can swap gadgets anytime)\n",
        "spidey_list = [\"spare mask\", \"Web shooter\", \"Camera\"]\n",
        "spidey_list[0] = \"Extra Web Fluid\" # Peter swaps out the spare mask\n",
        "print(\"list after change\",spidey_list)\n",
        "print(\"\\n---\\n\")\n",
        "# Creating a tuple [Daily Bugle newspaper headlines once printed, can't be changed]\n",
        "spidey_tuple = (\"Spider-Man Saves City\", \"Green Goblin Escapes\", \"MJ Performs at Theater\")\n",
        "print(\"tuple before change\",spidey_tuple)\n",
        "spidey_tuple[1] = \"Green Goblin Defeated\" # tuples are immutable\n",
        "print(spidey_tuple)"
      ],
      "metadata": {
        "colab": {
          "base_uri": "https://localhost:8080/",
          "height": 288
        },
        "id": "m8qiPMCAGo5S",
        "outputId": "000a1077-e5d5-48e8-d39c-ad3c014aad09"
      },
      "execution_count": null,
      "outputs": [
        {
          "output_type": "stream",
          "name": "stdout",
          "text": [
            "list after change ['Extra Web Fluid', 'Web shooter', 'Camera']\n",
            "\n",
            "---\n",
            "\n",
            "tuple before change ('Spider-Man Saves City', 'Green Goblin Escapes', 'MJ Performs at Theater')\n"
          ]
        },
        {
          "output_type": "error",
          "ename": "TypeError",
          "evalue": "'tuple' object does not support item assignment",
          "traceback": [
            "\u001b[0;31m---------------------------------------------------------------------------\u001b[0m",
            "\u001b[0;31mTypeError\u001b[0m                                 Traceback (most recent call last)",
            "\u001b[0;32m/tmp/ipython-input-3842595403.py\u001b[0m in \u001b[0;36m<cell line: 0>\u001b[0;34m()\u001b[0m\n\u001b[1;32m      8\u001b[0m \u001b[0mspidey_tuple\u001b[0m \u001b[0;34m=\u001b[0m \u001b[0;34m(\u001b[0m\u001b[0;34m\"Spider-Man Saves City\"\u001b[0m\u001b[0;34m,\u001b[0m \u001b[0;34m\"Green Goblin Escapes\"\u001b[0m\u001b[0;34m,\u001b[0m \u001b[0;34m\"MJ Performs at Theater\"\u001b[0m\u001b[0;34m)\u001b[0m\u001b[0;34m\u001b[0m\u001b[0;34m\u001b[0m\u001b[0m\n\u001b[1;32m      9\u001b[0m \u001b[0mprint\u001b[0m\u001b[0;34m(\u001b[0m\u001b[0;34m\"tuple before change\"\u001b[0m\u001b[0;34m,\u001b[0m\u001b[0mspidey_tuple\u001b[0m\u001b[0;34m)\u001b[0m\u001b[0;34m\u001b[0m\u001b[0;34m\u001b[0m\u001b[0m\n\u001b[0;32m---> 10\u001b[0;31m \u001b[0mspidey_tuple\u001b[0m\u001b[0;34m[\u001b[0m\u001b[0;36m1\u001b[0m\u001b[0;34m]\u001b[0m \u001b[0;34m=\u001b[0m \u001b[0;34m\"Green Goblin Defeated\"\u001b[0m \u001b[0;31m# tuples are immutable\u001b[0m\u001b[0;34m\u001b[0m\u001b[0;34m\u001b[0m\u001b[0m\n\u001b[0m\u001b[1;32m     11\u001b[0m \u001b[0mprint\u001b[0m\u001b[0;34m(\u001b[0m\u001b[0mspidey_tuple\u001b[0m\u001b[0;34m)\u001b[0m\u001b[0;34m\u001b[0m\u001b[0;34m\u001b[0m\u001b[0m\n",
            "\u001b[0;31mTypeError\u001b[0m: 'tuple' object does not support item assignment"
          ]
        }
      ]
    },
    {
      "cell_type": "code",
      "source": [
        "#6. Write a function to demonstrate the behavior of mutable and immutable arguments.\n",
        "def upgrade(gadget_list, hero_name):\n",
        "  gadget_list.append(\"Nano Suit\") # List-> mutable\n",
        "  hero_name += \" the Amazing\"     # String-> immutable\n",
        "  print(f\"Inside function: \", gadget_list, hero_name)\n",
        "gadgets = [\"Web shooter\", \"Camera\"]\n",
        "name = \"Spider-man\"\n",
        "upgrade(gadgets, name)\n",
        "print(\"Outside function: \", gadgets, name)\n",
        "# list  changes inside the function stay outside the function too string changes inside the function don’t affect the original.\n",
        "\n"
      ],
      "metadata": {
        "colab": {
          "base_uri": "https://localhost:8080/"
        },
        "id": "LxWpk5KRJiag",
        "outputId": "ffea3ab1-c26a-4ac8-c5d4-64ea0049d6f4"
      },
      "execution_count": null,
      "outputs": [
        {
          "output_type": "stream",
          "name": "stdout",
          "text": [
            "Inside function:  ['Web shooter', 'Camera', 'Nano Suit'] Spider-man the Amazing\n",
            "Outside function:  ['Web shooter', 'Camera', 'Nano Suit'] Spider-man\n"
          ]
        }
      ]
    },
    {
      "cell_type": "code",
      "source": [
        "#7. Write a program that performs basic arithmetic operations on two user-input numbers.\n",
        "num1 = float(input(\"Enter the first number (Peter's power level): \"))\n",
        "num2 = float(input(\"Enter the first number (Villain's power level): \"))\n",
        "print(f\"Addition: {num1 + num2}\")\n",
        "print(f\"Subtraction: {num1 - num2}\")\n",
        "print(f\"Division: {num1 / num2}\")\n",
        "print(f\"Multiplication: {num1 * num2}\")\n",
        "print(f\"Floor divisio: {num1 // num2}\")\n",
        "print(f\"Exponential: {num1 ** num2}\")\n",
        "\n",
        "\n"
      ],
      "metadata": {
        "colab": {
          "base_uri": "https://localhost:8080/"
        },
        "id": "n0oGSVcrOom3",
        "outputId": "c508ba20-eec0-457b-b9d6-d7805478a7ab"
      },
      "execution_count": null,
      "outputs": [
        {
          "output_type": "stream",
          "name": "stdout",
          "text": [
            "Enter the first number (Peter's power level): 50\n",
            "Enter the first number (Villain's power level): 30\n",
            "Addition: 80.0\n",
            "Subtraction: 20.0\n",
            "Division: 1.6666666666666667\n",
            "Multiplication: 1500.0\n",
            "Floor divisio: 1.0\n",
            "Exponential: 9.313225746154785e+50\n"
          ]
        }
      ]
    },
    {
      "cell_type": "code",
      "source": [
        "#8. Write a program to demonstrate the use of logical operators.\n",
        "spidey_has_web = True\n",
        "spidey_is_in_city = False\n",
        "print(\"and operator:\", spidey_has_web and spidey_is_in_city)\n",
        "print(\"or operator:\", spidey_has_web or spidey_is_in_city)\n",
        "print(\"not operator:\", not spidey_has_web)"
      ],
      "metadata": {
        "colab": {
          "base_uri": "https://localhost:8080/"
        },
        "id": "XW8MVEEmaUyh",
        "outputId": "55189a21-70e8-444f-8143-ff7c367935d0"
      },
      "execution_count": null,
      "outputs": [
        {
          "output_type": "stream",
          "name": "stdout",
          "text": [
            "and operator: False\n",
            "or operator: True\n",
            "not operator: False\n"
          ]
        }
      ]
    },
    {
      "cell_type": "code",
      "source": [
        "#9.  Write a Python program to convert user input from string to integer, float, and boolean types.\n",
        "user_input = input(\"Enter a number spiderman will try to convert it: \")\n",
        "if user_input.isdigit():\n",
        "  print(\"int_value:\", int(user_input))\n",
        "  print(\"float_value:\", float(user_input))\n",
        "  print(\"bool_value:\", bool(user_input))\n",
        "else:\n",
        "  print(\"Invalid Input Enter A Digit\")"
      ],
      "metadata": {
        "colab": {
          "base_uri": "https://localhost:8080/"
        },
        "id": "_DWz6drxcEWC",
        "outputId": "2194a60b-7aae-4569-8c1e-8da839e3e85f"
      },
      "execution_count": null,
      "outputs": [
        {
          "output_type": "stream",
          "name": "stdout",
          "text": [
            "Enter a number spiderman will try to convert it: 111\n",
            "int_value: 111\n",
            "float_value: 111.0\n",
            "bool_value: True\n"
          ]
        }
      ]
    },
    {
      "cell_type": "code",
      "source": [
        "#10. Write code to demonstrate type casting with list elements.\n",
        "villain_bounties_str = [\"1000\", \"2000\", \"2500\", \"1500\"]\n",
        "print(\"Original bounties (strings)\", villain_bounties_str)\n",
        "print(\"Data type of first element\", type(villain_bounties_str[0]))\n",
        "# Converting strings values in integers\n",
        "villain_bounties_int = [int(bounty) for bounty in villain_bounties_str]\n",
        "print(\"\\nConverted bounties (integers)\", villain_bounties_int)\n",
        "print(\"Data type of first element\", type(villain_bounties_int[0]))\n",
        "# Calculating total bounties\n",
        "total_bounty = sum(villain_bounties_int)\n",
        "print(f\"\\nTotal bount spiderman could claim ${total_bounty}\")"
      ],
      "metadata": {
        "id": "5Q7BvQOwfGmc",
        "colab": {
          "base_uri": "https://localhost:8080/"
        },
        "outputId": "ff2ee701-0ff6-4342-e406-b44f2746b9e0"
      },
      "execution_count": null,
      "outputs": [
        {
          "output_type": "stream",
          "name": "stdout",
          "text": [
            "Original bounties (strings) ['1000', '2000', '2500', '1500']\n",
            "Data type of first element <class 'str'>\n",
            "\n",
            "Converted bounties (integers) [1000, 2000, 2500, 1500]\n",
            "Data type of first element <class 'int'>\n",
            "\n",
            "Total bount spiderman could claim $7000\n"
          ]
        }
      ]
    },
    {
      "cell_type": "code",
      "source": [
        "#11.Write a program that checks if a number is positive, negative, or zero.\n",
        "# 🕸️ Spider-man: danger level detector\n",
        "# Check if the incoming level threat is positive, negative or zero.\n",
        "threat_level = int(input(\"Enter the threat level (can be negative, positive or zero): \"))\n",
        "if threat_level > 0:\n",
        "  print(\"🚨 High Alert! Villains are active in city\")\n",
        "elif threat_level < 0:\n",
        "  print(\"😌 All quiet in New York. Spidey can take a break.\")\n",
        "else:\n",
        "  print(\"⚠️ Uncertain threat level. Stay Alert, Spidey!\")"
      ],
      "metadata": {
        "colab": {
          "base_uri": "https://localhost:8080/"
        },
        "id": "cTcE3rxggzVt",
        "outputId": "13eda919-c06f-45e7-b826-d5efbd5300c5"
      },
      "execution_count": null,
      "outputs": [
        {
          "output_type": "stream",
          "name": "stdout",
          "text": [
            "Enter the threat level (can be negative, positive or zero): 0\n",
            "⚠️ Uncertain threat level. Stay Alert, Spidey!\n"
          ]
        }
      ]
    },
    {
      "cell_type": "code",
      "source": [
        "#12. . Write a for loop to print numbers from 1 to 10.\n",
        "print(\"Spider-man is starting his city patrol\\n\")\n",
        "for building in range (1,11):\n",
        "  print(f\" Swing {building}: Spider-man swings to the next building!\")\n",
        "print(\"\\nPatrol complet! the city is safe for now.\")"
      ],
      "metadata": {
        "colab": {
          "base_uri": "https://localhost:8080/"
        },
        "id": "Em4vpGHSjw2w",
        "outputId": "677729db-d336-463c-8080-6a199ed81de7"
      },
      "execution_count": null,
      "outputs": [
        {
          "output_type": "stream",
          "name": "stdout",
          "text": [
            "Spider-man is starting his city patrol\n",
            "\n",
            " Swing 1: Spider-man swings to the next building!\n",
            " Swing 2: Spider-man swings to the next building!\n",
            " Swing 3: Spider-man swings to the next building!\n",
            " Swing 4: Spider-man swings to the next building!\n",
            " Swing 5: Spider-man swings to the next building!\n",
            " Swing 6: Spider-man swings to the next building!\n",
            " Swing 7: Spider-man swings to the next building!\n",
            " Swing 8: Spider-man swings to the next building!\n",
            " Swing 9: Spider-man swings to the next building!\n",
            " Swing 10: Spider-man swings to the next building!\n",
            "\n",
            "Patrol complet! the city is safe for now.\n"
          ]
        }
      ]
    },
    {
      "cell_type": "code",
      "source": [
        "#13.  Write a Python program to find the sum of all even numbers between 1 and 50.\n",
        "# Spidey collects web fluid canisters from even-numbered rooftops between 1 and 50(exclusive)\n",
        "total_fluid = 0\n",
        "for rooftop in range (1,50):\n",
        "  if rooftop % 2 == 0:\n",
        "    total_fluid += rooftop # even numbered rooftops\n",
        "print(f\"Total web fluid collected: {total_fluid} units\")\n"
      ],
      "metadata": {
        "colab": {
          "base_uri": "https://localhost:8080/"
        },
        "id": "ZpkBOWDqlyp4",
        "outputId": "16625702-58e1-439f-8700-361de44a2232"
      },
      "execution_count": null,
      "outputs": [
        {
          "output_type": "stream",
          "name": "stdout",
          "text": [
            "Total web fluid collected: 600 units\n"
          ]
        }
      ]
    },
    {
      "cell_type": "code",
      "source": [
        "#14. Write a program to reverse a string using a while loop.\n",
        "message = input(\"Enter Daily Bugle headline: \")\n",
        "reversed_message = \"\"\n",
        "i = len(message) - 1\n",
        "while i >= 0:\n",
        "  reversed_message += message[i]\n",
        "  i-=1\n",
        "print(\"Decoded message\", reversed_message)\n"
      ],
      "metadata": {
        "colab": {
          "base_uri": "https://localhost:8080/"
        },
        "id": "nd5nDx45ohbh",
        "outputId": "36112734-c1ef-4d0f-d079-ff92b576bb67"
      },
      "execution_count": 2,
      "outputs": [
        {
          "output_type": "stream",
          "name": "stdout",
          "text": [
            "Enter Daily Bugle headline: Green Goblin\n",
            "Decoded message nilboG neerG\n"
          ]
        }
      ]
    },
    {
      "cell_type": "code",
      "source": [
        "#15.Write a Python program to calculate the factorial of a number provided by the user using a while loop.\n",
        "villain_count = int(input(\"Enter the number: \"))\n",
        "power_combo = 1\n",
        "fight = villain_count\n",
        "while fight > 0:\n",
        "  power_combo = fight * power_combo\n",
        "  fight -= 1\n",
        "print(f\"\\n🕷️ Total combined power (factorial of {villain_count}) is: {power_combo}\")"
      ],
      "metadata": {
        "colab": {
          "base_uri": "https://localhost:8080/"
        },
        "id": "d05fRSTiqvEx",
        "outputId": "538ab69a-8e2b-4bd2-f81b-450e3ac9a079"
      },
      "execution_count": null,
      "outputs": [
        {
          "output_type": "stream",
          "name": "stdout",
          "text": [
            "Enter the number: 5\n",
            "\n",
            "🕷️ Total combined power (factorial of 5) is: 120\n"
          ]
        }
      ]
    },
    {
      "cell_type": "markdown",
      "source": [
        "Dear PW Skills Faculty,\n",
        "\n",
        ">I have completed the Python basic assignment with a creative Spider-Man theme to make the code more engaging and fun.\n",
        "Kindly review my assignment, and I look forward to your valuable feedback.\n",
        "\n",
        ">>Thank you for your guidance!😊"
      ],
      "metadata": {
        "id": "ETfY7EZXyAkm"
      }
    },
    {
      "cell_type": "markdown",
      "source": [],
      "metadata": {
        "id": "YIy2cxiHyJEc"
      }
    }
  ]
}